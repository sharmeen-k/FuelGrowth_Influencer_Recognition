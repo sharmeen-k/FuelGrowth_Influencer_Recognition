{
 "cells": [
  {
   "cell_type": "code",
   "execution_count": 1,
   "metadata": {},
   "outputs": [],
   "source": [
    "import numpy as np\n",
    "import pandas as pd\n",
    "import face_recognition\n",
    "import cv2\n",
    "import os"
   ]
  },
  {
   "cell_type": "code",
   "execution_count": 2,
   "metadata": {},
   "outputs": [
    {
     "data": {
      "text/html": [
       "<div>\n",
       "<style scoped>\n",
       "    .dataframe tbody tr th:only-of-type {\n",
       "        vertical-align: middle;\n",
       "    }\n",
       "\n",
       "    .dataframe tbody tr th {\n",
       "        vertical-align: top;\n",
       "    }\n",
       "\n",
       "    .dataframe thead th {\n",
       "        text-align: right;\n",
       "    }\n",
       "</style>\n",
       "<table border=\"1\" class=\"dataframe\">\n",
       "  <thead>\n",
       "    <tr style=\"text-align: right;\">\n",
       "      <th></th>\n",
       "      <th>Face_ID</th>\n",
       "      <th>Performance</th>\n",
       "      <th>Video URL</th>\n",
       "    </tr>\n",
       "  </thead>\n",
       "  <tbody>\n",
       "    <tr>\n",
       "      <th>0</th>\n",
       "      <td>1</td>\n",
       "      <td>1.1060</td>\n",
       "      <td>https://fgimagestorage.blob.core.windows.net/f...</td>\n",
       "    </tr>\n",
       "    <tr>\n",
       "      <th>1</th>\n",
       "      <td>2</td>\n",
       "      <td>1.3930</td>\n",
       "      <td>https://fgimagestorage.blob.core.windows.net/f...</td>\n",
       "    </tr>\n",
       "    <tr>\n",
       "      <th>2</th>\n",
       "      <td>2</td>\n",
       "      <td>0.6434</td>\n",
       "      <td>NaN</td>\n",
       "    </tr>\n",
       "    <tr>\n",
       "      <th>3</th>\n",
       "      <td>2</td>\n",
       "      <td>0.6250</td>\n",
       "      <td>NaN</td>\n",
       "    </tr>\n",
       "    <tr>\n",
       "      <th>4</th>\n",
       "      <td>2</td>\n",
       "      <td>0.9191</td>\n",
       "      <td>NaN</td>\n",
       "    </tr>\n",
       "  </tbody>\n",
       "</table>\n",
       "</div>"
      ],
      "text/plain": [
       "   Face_ID  Performance                                          Video URL\n",
       "0        1       1.1060  https://fgimagestorage.blob.core.windows.net/f...\n",
       "1        2       1.3930  https://fgimagestorage.blob.core.windows.net/f...\n",
       "2        2       0.6434                                                NaN\n",
       "3        2       0.6250                                                NaN\n",
       "4        2       0.9191                                                NaN"
      ]
     },
     "execution_count": 2,
     "metadata": {},
     "output_type": "execute_result"
    }
   ],
   "source": [
    "raw = pd.read_csv('face_dataset/performance.csv')\n",
    "raw.head()"
   ]
  },
  {
   "cell_type": "code",
   "execution_count": 3,
   "metadata": {},
   "outputs": [
    {
     "data": {
      "text/plain": [
       "(2212, 3)"
      ]
     },
     "execution_count": 3,
     "metadata": {},
     "output_type": "execute_result"
    }
   ],
   "source": [
    "raw.shape"
   ]
  },
  {
   "cell_type": "code",
   "execution_count": 4,
   "metadata": {},
   "outputs": [
    {
     "data": {
      "text/html": [
       "<div>\n",
       "<style scoped>\n",
       "    .dataframe tbody tr th:only-of-type {\n",
       "        vertical-align: middle;\n",
       "    }\n",
       "\n",
       "    .dataframe tbody tr th {\n",
       "        vertical-align: top;\n",
       "    }\n",
       "\n",
       "    .dataframe thead th {\n",
       "        text-align: right;\n",
       "    }\n",
       "</style>\n",
       "<table border=\"1\" class=\"dataframe\">\n",
       "  <thead>\n",
       "    <tr style=\"text-align: right;\">\n",
       "      <th></th>\n",
       "      <th>Face_ID</th>\n",
       "      <th>Video URL</th>\n",
       "    </tr>\n",
       "  </thead>\n",
       "  <tbody>\n",
       "    <tr>\n",
       "      <th>0</th>\n",
       "      <td>1</td>\n",
       "      <td>https://fgimagestorage.blob.core.windows.net/f...</td>\n",
       "    </tr>\n",
       "    <tr>\n",
       "      <th>1</th>\n",
       "      <td>2</td>\n",
       "      <td>https://fgimagestorage.blob.core.windows.net/f...</td>\n",
       "    </tr>\n",
       "    <tr>\n",
       "      <th>18</th>\n",
       "      <td>3</td>\n",
       "      <td>https://fgimagestorage.blob.core.windows.net/f...</td>\n",
       "    </tr>\n",
       "    <tr>\n",
       "      <th>30</th>\n",
       "      <td>4</td>\n",
       "      <td>https://fgimagestorage.blob.core.windows.net/f...</td>\n",
       "    </tr>\n",
       "    <tr>\n",
       "      <th>52</th>\n",
       "      <td>5</td>\n",
       "      <td>https://fgimagestorage.blob.core.windows.net/f...</td>\n",
       "    </tr>\n",
       "  </tbody>\n",
       "</table>\n",
       "</div>"
      ],
      "text/plain": [
       "    Face_ID                                          Video URL\n",
       "0         1  https://fgimagestorage.blob.core.windows.net/f...\n",
       "1         2  https://fgimagestorage.blob.core.windows.net/f...\n",
       "18        3  https://fgimagestorage.blob.core.windows.net/f...\n",
       "30        4  https://fgimagestorage.blob.core.windows.net/f...\n",
       "52        5  https://fgimagestorage.blob.core.windows.net/f..."
      ]
     },
     "execution_count": 4,
     "metadata": {},
     "output_type": "execute_result"
    }
   ],
   "source": [
    "url_directory = raw[raw['Video URL'].notna()]\n",
    "url_directory = url_directory[['Face_ID', 'Video URL']]\n",
    "url_directory.head()"
   ]
  },
  {
   "cell_type": "code",
   "execution_count": 5,
   "metadata": {},
   "outputs": [
    {
     "name": "stdout",
     "output_type": "stream",
     "text": [
      "(383, 2)\n"
     ]
    },
    {
     "data": {
      "text/html": [
       "<div>\n",
       "<style scoped>\n",
       "    .dataframe tbody tr th:only-of-type {\n",
       "        vertical-align: middle;\n",
       "    }\n",
       "\n",
       "    .dataframe tbody tr th {\n",
       "        vertical-align: top;\n",
       "    }\n",
       "\n",
       "    .dataframe thead th {\n",
       "        text-align: right;\n",
       "    }\n",
       "</style>\n",
       "<table border=\"1\" class=\"dataframe\">\n",
       "  <thead>\n",
       "    <tr style=\"text-align: right;\">\n",
       "      <th></th>\n",
       "      <th>Face_ID</th>\n",
       "      <th>Performance</th>\n",
       "    </tr>\n",
       "  </thead>\n",
       "  <tbody>\n",
       "    <tr>\n",
       "      <th>0</th>\n",
       "      <td>1</td>\n",
       "      <td>1.1060</td>\n",
       "    </tr>\n",
       "    <tr>\n",
       "      <th>1</th>\n",
       "      <td>2</td>\n",
       "      <td>1.3930</td>\n",
       "    </tr>\n",
       "    <tr>\n",
       "      <th>2</th>\n",
       "      <td>2</td>\n",
       "      <td>0.6434</td>\n",
       "    </tr>\n",
       "    <tr>\n",
       "      <th>3</th>\n",
       "      <td>2</td>\n",
       "      <td>0.6250</td>\n",
       "    </tr>\n",
       "    <tr>\n",
       "      <th>4</th>\n",
       "      <td>2</td>\n",
       "      <td>0.9191</td>\n",
       "    </tr>\n",
       "  </tbody>\n",
       "</table>\n",
       "</div>"
      ],
      "text/plain": [
       "   Face_ID  Performance\n",
       "0        1       1.1060\n",
       "1        2       1.3930\n",
       "2        2       0.6434\n",
       "3        2       0.6250\n",
       "4        2       0.9191"
      ]
     },
     "execution_count": 5,
     "metadata": {},
     "output_type": "execute_result"
    }
   ],
   "source": [
    "ranking = raw[['Face_ID', 'Performance']].drop_duplicates()\n",
    "ranking.reset_index(inplace=True, drop=True)\n",
    "print(ranking.shape)\n",
    "ranking.head()"
   ]
  },
  {
   "cell_type": "code",
   "execution_count": 6,
   "metadata": {},
   "outputs": [
    {
     "data": {
      "text/html": [
       "<div>\n",
       "<style scoped>\n",
       "    .dataframe tbody tr th:only-of-type {\n",
       "        vertical-align: middle;\n",
       "    }\n",
       "\n",
       "    .dataframe tbody tr th {\n",
       "        vertical-align: top;\n",
       "    }\n",
       "\n",
       "    .dataframe thead th {\n",
       "        text-align: right;\n",
       "    }\n",
       "</style>\n",
       "<table border=\"1\" class=\"dataframe\">\n",
       "  <thead>\n",
       "    <tr style=\"text-align: right;\">\n",
       "      <th></th>\n",
       "      <th>Face_ID</th>\n",
       "      <th>Avg_Performance</th>\n",
       "      <th>Video URL</th>\n",
       "    </tr>\n",
       "  </thead>\n",
       "  <tbody>\n",
       "    <tr>\n",
       "      <th>0</th>\n",
       "      <td>8</td>\n",
       "      <td>1.731514</td>\n",
       "      <td>https://fgimagestorage.blob.core.windows.net/f...</td>\n",
       "    </tr>\n",
       "    <tr>\n",
       "      <th>1</th>\n",
       "      <td>7</td>\n",
       "      <td>1.686180</td>\n",
       "      <td>https://fgimagestorage.blob.core.windows.net/f...</td>\n",
       "    </tr>\n",
       "    <tr>\n",
       "      <th>2</th>\n",
       "      <td>9</td>\n",
       "      <td>1.678143</td>\n",
       "      <td>https://fgimagestorage.blob.core.windows.net/f...</td>\n",
       "    </tr>\n",
       "    <tr>\n",
       "      <th>3</th>\n",
       "      <td>12</td>\n",
       "      <td>1.618300</td>\n",
       "      <td>https://fgimagestorage.blob.core.windows.net/f...</td>\n",
       "    </tr>\n",
       "    <tr>\n",
       "      <th>4</th>\n",
       "      <td>15</td>\n",
       "      <td>1.543925</td>\n",
       "      <td>https://fgimagestorage.blob.core.windows.net/f...</td>\n",
       "    </tr>\n",
       "  </tbody>\n",
       "</table>\n",
       "</div>"
      ],
      "text/plain": [
       "   Face_ID  Avg_Performance                                          Video URL\n",
       "0        8         1.731514  https://fgimagestorage.blob.core.windows.net/f...\n",
       "1        7         1.686180  https://fgimagestorage.blob.core.windows.net/f...\n",
       "2        9         1.678143  https://fgimagestorage.blob.core.windows.net/f...\n",
       "3       12         1.618300  https://fgimagestorage.blob.core.windows.net/f...\n",
       "4       15         1.543925  https://fgimagestorage.blob.core.windows.net/f..."
      ]
     },
     "execution_count": 6,
     "metadata": {},
     "output_type": "execute_result"
    }
   ],
   "source": [
    "ranking = ranking.groupby('Face_ID', as_index=False)['Performance'].mean()\n",
    "ranking.rename(columns={'Performance': 'Avg_Performance'}, inplace=True)\n",
    "ranking.sort_values(by='Avg_Performance', ascending=False, inplace=True)\n",
    "ranking.reset_index(inplace=True, drop=True)\n",
    "ranking = pd.merge(ranking, url_directory, on='Face_ID')\n",
    "ranking.head()"
   ]
  },
  {
   "cell_type": "code",
   "execution_count": 7,
   "metadata": {},
   "outputs": [],
   "source": [
    "ranking.to_csv('Influencer_Ranking.csv', index=False)"
   ]
  },
  {
   "cell_type": "code",
   "execution_count": null,
   "metadata": {},
   "outputs": [],
   "source": [
    "topface = ranking['Face_ID'][0]\n",
    "file = 'face_dataset/face_{}.npy'.format(topface)\n",
    "target_encoding = np.load(file, allow_pickle=True)\n",
    "tolerance = 0.2\n",
    "\n",
    "# Open the video file\n",
    "url = url_directory[url_directory['Face_ID'] == topface]['Video URL'].values[0]\n",
    "cap = cv2.VideoCapture(url)\n",
    "print(\"Captured the video\")\n",
    "\n",
    "while cap.isOpened():\n",
    "    print(\"Reading new frame\")\n",
    "    ret, frame = cap.read()\n",
    "    if not ret:\n",
    "        break\n",
    "\n",
    "    # Convert frame from BGR (OpenCV format) to RGB (face_recognition format)\n",
    "    rgb_frame = cv2.cvtColor(frame, cv2.COLOR_BGR2RGB)\n",
    "\n",
    "    # Find all face locations and encodings in the current frame\n",
    "    face_locations = face_recognition.face_locations(rgb_frame)\n",
    "    face_encodings = face_recognition.face_encodings(rgb_frame, face_locations)\n",
    "\n",
    "    for face_encoding, face_location in zip(face_encodings, face_locations):\n",
    "        print(\"Comparing the encoding to the target face\")\n",
    "        matches = face_recognition.compare_faces([target_encoding], face_encoding, tolerance=tolerance)\n",
    "        if matches[0]: \n",
    "            print(\"Match found!\")\n",
    "            top, right, bottom, left = face_location\n",
    "\n",
    "            # Saving the face\n",
    "            face_image = frame[top:bottom, left:right]\n",
    "            cv2.imwrite(\"top_influencer.jpg\", face_image)\n",
    "            break\n",
    "\n",
    "cap.release()"
   ]
  },
  {
   "cell_type": "code",
   "execution_count": null,
   "metadata": {},
   "outputs": [],
   "source": []
  }
 ],
 "metadata": {
  "kernelspec": {
   "display_name": "Python 3",
   "language": "python",
   "name": "python3"
  },
  "language_info": {
   "codemirror_mode": {
    "name": "ipython",
    "version": 3
   },
   "file_extension": ".py",
   "mimetype": "text/x-python",
   "name": "python",
   "nbconvert_exporter": "python",
   "pygments_lexer": "ipython3",
   "version": "3.10.5"
  }
 },
 "nbformat": 4,
 "nbformat_minor": 2
}
